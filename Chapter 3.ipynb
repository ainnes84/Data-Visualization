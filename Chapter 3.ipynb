{
 "cells": [
  {
   "cell_type": "code",
   "execution_count": 2,
   "metadata": {
    "collapsed": true
   },
   "outputs": [],
   "source": [
    "#Coding with pygal\n",
    "#install pygal in your terminal by using >>>sudo pip install pygal or >>>pip install\n",
    "#you can import it into your notebook once it is installed\n",
    "import pygal"
   ]
  },
  {
   "cell_type": "code",
   "execution_count": 3,
   "metadata": {},
   "outputs": [
    {
     "ename": "SyntaxError",
     "evalue": "invalid syntax (<ipython-input-3-633b7f6fa9a4>, line 7)",
     "output_type": "error",
     "traceback": [
      "\u001b[1;36m  File \u001b[1;32m\"<ipython-input-3-633b7f6fa9a4>\"\u001b[1;36m, line \u001b[1;32m7\u001b[0m\n\u001b[1;33m    line.add(\"Downloads\", [None, 4 6, 12, 24, 32, 60, 72, 80, 90, 148]) #none will add an empty space\u001b[0m\n\u001b[1;37m                                   ^\u001b[0m\n\u001b[1;31mSyntaxError\u001b[0m\u001b[1;31m:\u001b[0m invalid syntax\n"
     ]
    }
   ],
   "source": [
    "#Building a line chart\n",
    "#Principles to remember: line charts are great to show how data changes over time.\n",
    "#Often times x axes indicate time or value and the y axis indicates some other parameter we are looking into\n",
    "line = pygal.Line()\n",
    "line.title = \"Songs listed during 10 years\"\n",
    "line.x_labels = map(str, range (2007, 2017))\n",
    "line.add(\"Downloads\", [None, 4 6, 12, 24, 32, 60, 72, 80, 90, 148]) #none will add an empty space\n",
    "line.render_to_file('linechart.svg')"
   ]
  }
 ],
 "metadata": {
  "kernelspec": {
   "display_name": "Python 2",
   "language": "python",
   "name": "python2"
  },
  "language_info": {
   "codemirror_mode": {
    "name": "ipython",
    "version": 2
   },
   "file_extension": ".py",
   "mimetype": "text/x-python",
   "name": "python",
   "nbconvert_exporter": "python",
   "pygments_lexer": "ipython2",
   "version": "2.7.13"
  }
 },
 "nbformat": 4,
 "nbformat_minor": 2
}
