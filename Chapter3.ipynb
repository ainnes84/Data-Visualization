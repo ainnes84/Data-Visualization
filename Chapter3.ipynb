{
 "cells": [
  {
   "cell_type": "code",
   "execution_count": 3,
   "metadata": {
    "collapsed": true
   },
   "outputs": [],
   "source": [
    "import pygal"
   ]
  },
  {
   "cell_type": "code",
   "execution_count": 4,
   "metadata": {
    "collapsed": true
   },
   "outputs": [],
   "source": [
    "#Building a line chart\n",
    "#Principles to remember: line charts are great to show how data changes over time.\n",
    "#Often times x axes indicates time or value and the y axis indicates some other parameter\n",
    "line = pygal.Line()\n",
    "line.title = \"Songs listened during 10 years\"\n",
    "line.x_labels = map(str, range (2007, 2017))\n",
    "line.add(\"Downloads\", [None, 4, 6, 12, 24, 32, 60, 72, 80, 90, 148]) #none will add an empty space\n",
    "line.render_to_file('linechart.svg')"
   ]
  },
  {
   "cell_type": "code",
   "execution_count": null,
   "metadata": {
    "collapsed": true
   },
   "outputs": [],
   "source": [
    "#Stacked line charts\n",
    "#These are similar to line charts, but have the ability to stack multiple\n",
    "#sets of data over each other to show the specific values for a group\n",
    "#Let's start with stacked line charts\n",
    "line = pygal.StackedLine (fill = True)\n",
    "line.title = \"Shows watched in the past ten years\"\n",
    "line.x_labels"
   ]
  }
 ],
 "metadata": {
  "kernelspec": {
   "display_name": "Python 3",
   "language": "python",
   "name": "python3"
  },
  "language_info": {
   "codemirror_mode": {
    "name": "ipython",
    "version": 3
   },
   "file_extension": ".py",
   "mimetype": "text/x-python",
   "name": "python",
   "nbconvert_exporter": "python",
   "pygments_lexer": "ipython3",
   "version": "3.6.1"
  }
 },
 "nbformat": 4,
 "nbformat_minor": 2
}
