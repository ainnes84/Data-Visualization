{
 "cells": [
  {
   "cell_type": "code",
   "execution_count": 2,
   "metadata": {
    "collapsed": true
   },
   "outputs": [],
   "source": [
    "# Coding Chapter 6\n",
    "import pygal\n",
    "\n",
    "param_line_chart = pygal.Line(interpolate='cubic', label_font_size=20, x_label_rotation=50)\n",
    "param_line_chart.title = 'Parameter Line Chart'\n",
    "param_line_chart.x_title='Data-Sets (X Axis)'\n",
    "param_line_chart.y_title='Values (Y Axis)'\n",
    "\n",
    "param_line_chart.x_labels = map(str, [\"Data Object 1\", \"Data Object 2\", \"Data Object 3\", \"Data Object 4\", \"Data Object 5\", \"Data Object 6\"])\n",
    "\n",
    "param_line_chart.add('Data-Set 1', [8, 16, 24, 32, 48, 56])\n",
    "param_line_chart.add('Data-Set 2', [2, 4, 6, 8, 10, 12])\n",
    "param_line_chart.add('Data-Set 3', [1, 3, 5, 7, 9, 12])\n",
    "\n",
    "param_line_chart.render_to_file('lineparam.svg')"
   ]
  },
  {
   "cell_type": "code",
   "execution_count": 3,
   "metadata": {
    "collapsed": true
   },
   "outputs": [],
   "source": [
    "param_line_chart = pygal.Line(interpolate='cubic', label_font_size=20, x_label_rotation=50, title_font_size=24, x_title_font_size=24, y_title_font_size=24)\n",
    "param_line_chart.title = 'Parameter Line Chart'\n",
    "param_line_chart.x_title='Data_sets (X Axis)'\n",
    "param_line_chart.y_title='Values (Y Axis)'\n",
    "\n",
    "param_line_chart.x_labels = map(str, [\"Data Object 1\", \"Data Object 2\", \"Data Pbject 3\", \"Data Object 4\", \"Data Object 5\", \"Data Object 6\"])\n",
    "\n",
    "param_line_chart.add('Data-Set 1', [8, 16, 24, 32, 48, 56])\n",
    "param_line_chart.add('Data-Set 2', [2, 4, 6, 8, 10, 12])\n",
    "param_line_chart.add('Data-Set 3', [1, 3, 5, 7, 9, 12])\n",
    "\n",
    "param_line_chart.render_to_file('lineparam1.svg')"
   ]
  },
  {
   "cell_type": "code",
   "execution_count": 4,
   "metadata": {
    "collapsed": true
   },
   "outputs": [],
   "source": [
    "# install pygal maps package\n",
    "# pip install pygal_maps_world\n",
    "# install france map\n",
    "# pip install pygal_maps_fr\n",
    "\n",
    "fr_chart = pygal.maps.fr.Departments()\n",
    "fr_chart.title = 'Sample departments'\n",
    "fr_chart.add('Data-set 1', ['17'])\n",
    "fr_chart.add('Data-set 2', ['27'])\n",
    "fr_chart.add('Data-set 3', ['38'])\n",
    "fr_chart.add('Data-set 4', ['42'])\n",
    "fr_chart.add('Data-set 5', ['19'])\n",
    "\n",
    "fr_chart.render_to_file('franceMap.svg')"
   ]
  },
  {
   "cell_type": "code",
   "execution_count": 5,
   "metadata": {
    "collapsed": true
   },
   "outputs": [],
   "source": [
    "# install pygal maps package\n",
    "# pip install pygal_maps_world\n",
    "# install france map\n",
    "# pip install pygal_maps_fr\n",
    "\n",
    "fr_chart = pygal.maps.fr.Regions()\n",
    "fr_chart.title = 'France Regions'\n",
    "fr_chart.add('', ['24'])\n",
    "fr_chart.add('', ['41'])\n",
    "fr_chart.add('', ['22'])\n",
    "fr_chart.add('', ['23'])\n",
    "fr_chart.add('', ['94'])\n",
    "\n",
    "fr_chart.render_to_file('franceRegions_map.svg')"
   ]
  },
  {
   "cell_type": "code",
   "execution_count": 6,
   "metadata": {
    "collapsed": true
   },
   "outputs": [],
   "source": [
    "param_line_chart = pygal.Line(no_data_text='Unable to load data')\n",
    "param_line_chart.title = 'Parameter Line Chart'\n",
    "param_line_chart.x_title='Data-Sets (X Axis)'\n",
    "param_line_chart.y_title='Values (Y Axis)'\n",
    "\n",
    "param_line_chart.x_labels = map(str, [\"Data Object 1\", \"Data Object 2\", \"Data Object 3\", \"Data Object 4\", \"Data Object 5\", \"Data Object 6\"])\n",
    "\n",
    "#param_line_chart.add('Data-Set 1', [8, 16, 24, 32, 48, 56])\n",
    "#param_line_chart.add('Data-Set 2', [2, 4, 6, 8, 10, 12])\n",
    "#param_line_chart.add('Data-Set 3', [1, 3, 5, 7, 9, 12])\n",
    "\n",
    "param_line_chart.render_to_file('lineparam2.svg')"
   ]
  },
  {
   "cell_type": "code",
   "execution_count": 7,
   "metadata": {
    "collapsed": true
   },
   "outputs": [],
   "source": [
    "param_line_chart = pygal.Line()\n",
    "param_line_chart.title = 'Parameter Line Chart'\n",
    "param_line_chart.x_labels = map(str, [\"Data Object 1\", \"Data Object 2\", \"Data Object 3\",\n",
    "                                      \"Data Object 4\", \"Data Object 5\", \"Data Object 6\"])\n",
    "param_line_chart.add('Data-Set 1', [8, 16, 24, 32, 48, 56])\n",
    "param_line_chart.add('Data-Set 2', [2, 4, 6, 8, 10, 12])\n",
    "param_line_chart.add('Data-Set 3', [1, 3, 5, 7, 9, 12])\n",
    "\n",
    "param_line_chart.render_to_file('lineparam3.svg')"
   ]
  },
  {
   "cell_type": "code",
   "execution_count": 8,
   "metadata": {
    "collapsed": true
   },
   "outputs": [],
   "source": [
    "param_line_chart = pygal.Line(fill=True, label_font_size=20)\n",
    "param_line_chart.title = 'Parameter Line Chart'\n",
    "param_line_chart.x_labels = map(str, [\"Data Object 1\", \"Data Object 2\", \"Data Object 3\", \"Data Object 4\", \"Data Object 5\", \"Data Object 6\"])\n",
    "param_line_chart.add('Data-Set 1', [8, 16, 24, 32, 48, 56])\n",
    "param_line_chart.add('Data-Set 2', [2, 4, 6, 8, 10, 12])\n",
    "param_line_chart.add('Data-Set 3', [1, 3, 5, 7, 9, 12])\n",
    "\n",
    "param_line_chart.render_to_file('lineparam4.svg')"
   ]
  },
  {
   "cell_type": "code",
   "execution_count": 9,
   "metadata": {
    "collapsed": true
   },
   "outputs": [],
   "source": [
    "param_line_chart = pygal.Line(fill=False, stroke=False, label_font_size=20, x_label_rotation=50)\n",
    "param_line_chart.title = 'Parameter Line Chart'\n",
    "param_line_chart.x_labels = map(str, [\"Data Object 1\", \"Data Object 2\", \"Data Object 3\", \"Data Object 4\", \"Data Object 5\", \"Data Object 6\"])\n",
    "param_line_chart.add('Data-Set 1', [8, 16, 24, 32, 48, 56])\n",
    "param_line_chart.add('Data-Set 2', [2, 4, 6, 8, 10, 12])\n",
    "param_line_chart.add('Data-Set 3', [1, 3, 5, 7, 9, 12])\n",
    "\n",
    "param_line_chart.render_to_file('lineparam5.svg')"
   ]
  },
  {
   "cell_type": "code",
   "execution_count": 10,
   "metadata": {
    "collapsed": true
   },
   "outputs": [],
   "source": [
    "param_line_chart = pygal.Line(interpolate='cubic', label_font_size=20, x_label_rotation=50)\n",
    "param_line_chart.title = 'Parameter Line Chart'\n",
    "param_line_chart.x_labels = map(str, [\"Data Object 1\", \"Data Object 2\", \"Data Object 3\", \"Data Object 4\", \"Data Object 5\", \"Data Object 6\"])\n",
    "param_line_chart.add('Data-Set 1', [8, 16, 24, 32, 48, 56])\n",
    "param_line_chart.add('Data-Set 2', [2, 4, 6, 8, 10, 12])\n",
    "param_line_chart.add('Data-Set 3', [1, 3, 5, 7, 9, 12])\n",
    "\n",
    "param_line_chart.render_to_file('lineparam6.svg')"
   ]
  },
  {
   "cell_type": "code",
   "execution_count": 11,
   "metadata": {
    "collapsed": true
   },
   "outputs": [],
   "source": [
    "from pygal.maps.world import World\n",
    "from pygal.maps.world import COUNTRIES\n",
    "\n",
    "france_chart = pygal.maps.fr.Departments()\n",
    "france_chart.title = 'Sample departments'\n",
    "france_chart.add('Country', ['fr'])\n",
    "france_chart.add('data set', {\n",
    "    'df1':17,\n",
    "    'df2':27,\n",
    "    'df3':38,\n",
    "    'df4':42,\n",
    "    'df5':19\n",
    "})\n",
    "\n",
    "france_chart.render_to_file(\"France.svg\")"
   ]
  },
  {
   "cell_type": "code",
   "execution_count": null,
   "metadata": {
    "collapsed": true
   },
   "outputs": [],
   "source": []
  }
 ],
 "metadata": {
  "kernelspec": {
   "display_name": "Python 3",
   "language": "python",
   "name": "python3"
  },
  "language_info": {
   "codemirror_mode": {
    "name": "ipython",
    "version": 3
   },
   "file_extension": ".py",
   "mimetype": "text/x-python",
   "name": "python",
   "nbconvert_exporter": "python",
   "pygments_lexer": "ipython3",
   "version": "3.6.1"
  }
 },
 "nbformat": 4,
 "nbformat_minor": 2
}
